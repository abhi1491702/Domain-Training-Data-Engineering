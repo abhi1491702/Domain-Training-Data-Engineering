{
 "cells": [
  {
   "cell_type": "code",
   "execution_count": 1,
   "id": "31cd7270",
   "metadata": {},
   "outputs": [
    {
     "name": "stdout",
     "output_type": "stream",
     "text": [
      "DataFrame:\n",
      "      Name  Age           City\n",
      "0    Alice   25       New York\n",
      "1      Bob   30  San Francisco\n",
      "2  Charlie   35    Los Angeles\n"
     ]
    },
    {
     "name": "stderr",
     "output_type": "stream",
     "text": [
      "C:\\Users\\Abhishek\\AppData\\Local\\Temp\\ipykernel_48112\\2978960849.py:1: DeprecationWarning: \n",
      "Pyarrow will become a required dependency of pandas in the next major release of pandas (pandas 3.0),\n",
      "(to allow more performant data types, such as the Arrow string type, and better interoperability with other libraries)\n",
      "but was not found to be installed on your system.\n",
      "If this would cause problems for you,\n",
      "please provide us feedback at https://github.com/pandas-dev/pandas/issues/54466\n",
      "        \n",
      "  import pandas as pd\n"
     ]
    }
   ],
   "source": [
    "import pandas as pd\n",
    "\n",
    "# Creating a DataFrame from a dictionary\n",
    "data = {'Name': ['Alice', 'Bob', 'Charlie'],\n",
    "        'Age': [25, 30, 35],\n",
    "        'City': ['New York', 'San Francisco', 'Los Angeles']}\n",
    "\n",
    "df = pd.DataFrame(data)\n",
    "print(\"DataFrame:\")\n",
    "print(df)\n"
   ]
  },
  {
   "cell_type": "code",
   "execution_count": 2,
   "id": "d91fd100",
   "metadata": {},
   "outputs": [],
   "source": [
    "df.to_csv('data.csv')"
   ]
  },
  {
   "cell_type": "code",
   "execution_count": 3,
   "id": "78bc8bfd",
   "metadata": {},
   "outputs": [
    {
     "name": "stdout",
     "output_type": "stream",
     "text": [
      "DataFrame after reading CSV:\n",
      "   Unnamed: 0     Name  Age           City\n",
      "0           0    Alice   25       New York\n",
      "1           1      Bob   30  San Francisco\n",
      "2           2  Charlie   35    Los Angeles\n"
     ]
    }
   ],
   "source": [
    "# Reading CSV data into a DataFrame\n",
    "file_path = 'data.csv'\n",
    "df = pd.read_csv(file_path)\n",
    "\n",
    "print(\"DataFrame after reading CSV:\")\n",
    "print(df)\n"
   ]
  },
  {
   "cell_type": "code",
   "execution_count": 4,
   "id": "28a95bba",
   "metadata": {},
   "outputs": [
    {
     "name": "stdout",
     "output_type": "stream",
     "text": [
      "\n",
      "DataFrame after filtering:\n",
      "   Unnamed: 0     Name  Age         City\n",
      "2           2  Charlie   35  Los Angeles\n"
     ]
    }
   ],
   "source": [
    "# Filtering data where Age is greater than 30\n",
    "filtered_df = df.query('Age > 30')\n",
    "\n",
    "print(\"\\nDataFrame after filtering:\")\n",
    "print(filtered_df)\n"
   ]
  },
  {
   "cell_type": "code",
   "execution_count": 5,
   "id": "cbf1c3d6",
   "metadata": {},
   "outputs": [
    {
     "name": "stdout",
     "output_type": "stream",
     "text": [
      "\n",
      "DataFrame after operations:\n",
      "   Unnamed: 0     Name  Age           City  Salary\n",
      "0           0    Alice   25       New York   50000\n",
      "1           1      Bob   30  San Francisco   60000\n",
      "2           2  Charlie   35    Los Angeles   75000\n",
      "\n",
      "Average Age: 30.0\n"
     ]
    }
   ],
   "source": [
    "# Adding a new column\n",
    "df['Salary'] = [50000, 60000, 75000]\n",
    "\n",
    "# Calculating average age\n",
    "average_age = df['Age'].mean()\n",
    "\n",
    "print(\"\\nDataFrame after operations:\")\n",
    "print(df)\n",
    "print(f\"\\nAverage Age: {average_age}\")\n"
   ]
  },
  {
   "cell_type": "code",
   "execution_count": 6,
   "id": "797fe124",
   "metadata": {},
   "outputs": [],
   "source": [
    "import pandas as pd\n",
    "\n",
    "# Data provided\n",
    "data1 = {'Product': ['Laptop', 'Headphones', 'Smartphone', 'Jacket', 'Jeans', 'Smartwatch'],\n",
    "        'Category': ['Electronics', 'Electronics', 'Electronics', 'Apparel', 'Apparel', 'Electronics'],\n",
    "        'Price': [1200, 100, 800, 150, 60, 200],\n",
    "        'Quantity': [50, 100, 75, 30, 80, 40],\n",
    "        'SalesDate': ['2023-01-15', '2023-01-20', '2023-01-25', '2023-02-02', '2023-02-05', '2023-02-10']}"
   ]
  },
  {
   "cell_type": "code",
   "execution_count": 7,
   "id": "be882df8",
   "metadata": {},
   "outputs": [
    {
     "name": "stdout",
     "output_type": "stream",
     "text": [
      "DataFrame:\n",
      "      Product     Category  Price  Quantity   SalesDate\n",
      "0      Laptop  Electronics   1200        50  2023-01-15\n",
      "1  Headphones  Electronics    100       100  2023-01-20\n",
      "2  Smartphone  Electronics    800        75  2023-01-25\n",
      "3      Jacket      Apparel    150        30  2023-02-02\n",
      "4       Jeans      Apparel     60        80  2023-02-05\n",
      "5  Smartwatch  Electronics    200        40  2023-02-10\n"
     ]
    }
   ],
   "source": [
    "df1 = pd.DataFrame(data1)\n",
    "print(\"DataFrame:\")\n",
    "print(df1)"
   ]
  },
  {
   "cell_type": "code",
   "execution_count": 8,
   "id": "39aede08",
   "metadata": {},
   "outputs": [],
   "source": [
    "df1.to_csv('data2.csv')"
   ]
  },
  {
   "cell_type": "code",
   "execution_count": 9,
   "id": "220fc244",
   "metadata": {
    "scrolled": true
   },
   "outputs": [
    {
     "name": "stdout",
     "output_type": "stream",
     "text": [
      "DataFrame after reading CSV:\n",
      "   Unnamed: 0     Product     Category  Price  Quantity   SalesDate\n",
      "0           0      Laptop  Electronics   1200        50  2023-01-15\n",
      "1           1  Headphones  Electronics    100       100  2023-01-20\n",
      "2           2  Smartphone  Electronics    800        75  2023-01-25\n",
      "3           3      Jacket      Apparel    150        30  2023-02-02\n",
      "4           4       Jeans      Apparel     60        80  2023-02-05\n",
      "5           5  Smartwatch  Electronics    200        40  2023-02-10\n"
     ]
    }
   ],
   "source": [
    "# Reading CSV data into a DataFrame\n",
    "file_path = 'data2.csv'\n",
    "df1 = pd.read_csv(file_path)\n",
    "\n",
    "print(\"DataFrame after reading CSV:\")\n",
    "print(df1)"
   ]
  },
  {
   "cell_type": "code",
   "execution_count": null,
   "id": "4d93eaae",
   "metadata": {},
   "outputs": [],
   "source": []
  },
  {
   "cell_type": "code",
   "execution_count": null,
   "id": "bf237065",
   "metadata": {},
   "outputs": [],
   "source": []
  },
  {
   "cell_type": "code",
   "execution_count": null,
   "id": "422b26a8",
   "metadata": {},
   "outputs": [],
   "source": []
  }
 ],
 "metadata": {
  "kernelspec": {
   "display_name": "Python 3 (ipykernel)",
   "language": "python",
   "name": "python3"
  },
  "language_info": {
   "codemirror_mode": {
    "name": "ipython",
    "version": 3
   },
   "file_extension": ".py",
   "mimetype": "text/x-python",
   "name": "python",
   "nbconvert_exporter": "python",
   "pygments_lexer": "ipython3",
   "version": "3.10.10"
  }
 },
 "nbformat": 4,
 "nbformat_minor": 5
}
